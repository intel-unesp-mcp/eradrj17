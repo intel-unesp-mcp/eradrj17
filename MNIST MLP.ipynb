{
 "cells": [
  {
   "cell_type": "code",
   "execution_count": 1,
   "metadata": {},
   "outputs": [
    {
     "name": "stderr",
     "output_type": "stream",
     "text": [
      "Using Theano backend.\n"
     ]
    }
   ],
   "source": [
    "import os\n",
    "os.environ['KERAS_BACKEND']='theano'\n",
    "import datetime\n",
    "import keras\n",
    "from keras.datasets import mnist\n",
    "from keras.models import Sequential\n",
    "from keras.layers import Dense, Dropout\n",
    "import keras.optimizers"
   ]
  },
  {
   "cell_type": "code",
   "execution_count": 2,
   "metadata": {
    "collapsed": true
   },
   "outputs": [],
   "source": [
    "batch_size = 128\n",
    "num_classes = 10\n",
    "epochs = 20\n"
   ]
  },
  {
   "cell_type": "code",
   "execution_count": 3,
   "metadata": {},
   "outputs": [
    {
     "name": "stdout",
     "output_type": "stream",
     "text": [
      "60000 train samples\n",
      "10000 test samples\n"
     ]
    }
   ],
   "source": [
    "(x_train, y_train), (x_test, y_test) = mnist.load_data()\n",
    "\n",
    "x_train = x_train.reshape(60000, 784)\n",
    "x_test = x_test.reshape(10000, 784)\n",
    "x_train = x_train.astype('float32')\n",
    "x_test = x_test.astype('float32')\n",
    "x_train /= 255\n",
    "x_test /= 255\n",
    "print(x_train.shape[0], 'train samples')\n",
    "print(x_test.shape[0], 'test samples')"
   ]
  },
  {
   "cell_type": "code",
   "execution_count": 4,
   "metadata": {
    "collapsed": true
   },
   "outputs": [],
   "source": [
    "# convert class vectors to binary class matrices\n",
    "y_train = keras.utils.to_categorical(y_train, num_classes)\n",
    "y_test = keras.utils.to_categorical(y_test, num_classes)"
   ]
  },
  {
   "cell_type": "code",
   "execution_count": 5,
   "metadata": {
    "collapsed": true
   },
   "outputs": [],
   "source": [
    "model = Sequential()\n",
    "model.add(Dense(512, activation='relu', input_shape=(784,)))\n",
    "model.add(Dropout(0.2))\n",
    "model.add(Dense(512, activation='relu'))\n",
    "model.add(Dropout(0.2))\n",
    "model.add(Dense(10, activation='softmax'))\n"
   ]
  },
  {
   "cell_type": "code",
   "execution_count": 6,
   "metadata": {},
   "outputs": [
    {
     "name": "stdout",
     "output_type": "stream",
     "text": [
      "_________________________________________________________________\n",
      "Layer (type)                 Output Shape              Param #   \n",
      "=================================================================\n",
      "dense_1 (Dense)              (None, 512)               401920    \n",
      "_________________________________________________________________\n",
      "dropout_1 (Dropout)          (None, 512)               0         \n",
      "_________________________________________________________________\n",
      "dense_2 (Dense)              (None, 512)               262656    \n",
      "_________________________________________________________________\n",
      "dropout_2 (Dropout)          (None, 512)               0         \n",
      "_________________________________________________________________\n",
      "dense_3 (Dense)              (None, 10)                5130      \n",
      "=================================================================\n",
      "Total params: 669,706.0\n",
      "Trainable params: 669,706.0\n",
      "Non-trainable params: 0.0\n",
      "_________________________________________________________________\n"
     ]
    }
   ],
   "source": [
    "model.summary()"
   ]
  },
  {
   "cell_type": "code",
   "execution_count": 7,
   "metadata": {},
   "outputs": [],
   "source": [
    "model.compile(loss='categorical_crossentropy',\n",
    "              optimizer=keras.optimizers.sgd(),\n",
    "              metrics=['accuracy'])"
   ]
  },
  {
   "cell_type": "code",
   "execution_count": 8,
   "metadata": {},
   "outputs": [
    {
     "name": "stdout",
     "output_type": "stream",
     "text": [
      "Train on 60000 samples, validate on 10000 samples\n",
      "Epoch 1/20\n",
      "60000/60000 [==============================] - 4s - loss: 1.2267 - acc: 0.6813 - val_loss: 0.5463 - val_acc: 0.8697\n",
      "Epoch 2/20\n",
      "60000/60000 [==============================] - 4s - loss: 0.5383 - acc: 0.8482 - val_loss: 0.3803 - val_acc: 0.8970\n",
      "Epoch 3/20\n",
      "60000/60000 [==============================] - 4s - loss: 0.4288 - acc: 0.8759 - val_loss: 0.3272 - val_acc: 0.9098\n",
      "Epoch 4/20\n",
      "60000/60000 [==============================] - 4s - loss: 0.3801 - acc: 0.8896 - val_loss: 0.2978 - val_acc: 0.9163\n",
      "Epoch 5/20\n",
      "60000/60000 [==============================] - 4s - loss: 0.3483 - acc: 0.8986 - val_loss: 0.2782 - val_acc: 0.9204\n",
      "Epoch 6/20\n",
      "60000/60000 [==============================] - 4s - loss: 0.3261 - acc: 0.9049 - val_loss: 0.2599 - val_acc: 0.9261\n",
      "Epoch 7/20\n",
      "60000/60000 [==============================] - 4s - loss: 0.3061 - acc: 0.9107 - val_loss: 0.2453 - val_acc: 0.9289\n",
      "Epoch 8/20\n",
      "60000/60000 [==============================] - 4s - loss: 0.2892 - acc: 0.9172 - val_loss: 0.2337 - val_acc: 0.9321\n",
      "Epoch 9/20\n",
      "60000/60000 [==============================] - 4s - loss: 0.2720 - acc: 0.9204 - val_loss: 0.2214 - val_acc: 0.9364\n",
      "Epoch 10/20\n",
      "60000/60000 [==============================] - 4s - loss: 0.2589 - acc: 0.9248 - val_loss: 0.2140 - val_acc: 0.9381\n",
      "Epoch 11/20\n",
      "60000/60000 [==============================] - 4s - loss: 0.2465 - acc: 0.9282 - val_loss: 0.2049 - val_acc: 0.9406\n",
      "Epoch 12/20\n",
      "60000/60000 [==============================] - 4s - loss: 0.2377 - acc: 0.9316 - val_loss: 0.1952 - val_acc: 0.9439\n",
      "Epoch 13/20\n",
      "60000/60000 [==============================] - 4s - loss: 0.2281 - acc: 0.9339 - val_loss: 0.1870 - val_acc: 0.9456\n",
      "Epoch 14/20\n",
      "60000/60000 [==============================] - 4s - loss: 0.2188 - acc: 0.9369 - val_loss: 0.1808 - val_acc: 0.9476\n",
      "Epoch 15/20\n",
      "60000/60000 [==============================] - 4s - loss: 0.2110 - acc: 0.9395 - val_loss: 0.1754 - val_acc: 0.9498\n",
      "Epoch 16/20\n",
      "60000/60000 [==============================] - 4s - loss: 0.2045 - acc: 0.9404 - val_loss: 0.1688 - val_acc: 0.9499\n",
      "Epoch 17/20\n",
      "60000/60000 [==============================] - 5s - loss: 0.1967 - acc: 0.9435 - val_loss: 0.1634 - val_acc: 0.9522\n",
      "Epoch 18/20\n",
      "60000/60000 [==============================] - 4s - loss: 0.1907 - acc: 0.9441 - val_loss: 0.1582 - val_acc: 0.9532\n",
      "Epoch 19/20\n",
      "60000/60000 [==============================] - 4s - loss: 0.1847 - acc: 0.9466 - val_loss: 0.1532 - val_acc: 0.9545\n",
      "Epoch 20/20\n",
      "60000/60000 [==============================] - 5s - loss: 0.1778 - acc: 0.9488 - val_loss: 0.1489 - val_acc: 0.9558\n",
      "Training time: 0:02:05.583201\n",
      "Test score: 0.148932619519\n",
      "Test accuracy: 0.9558\n"
     ]
    }
   ],
   "source": [
    "t = datetime.datetime.now()\n",
    "history = model.fit(x_train, y_train,\n",
    "                    batch_size=batch_size,\n",
    "                    epochs=epochs,\n",
    "                    verbose=1,\n",
    "                    validation_data=(x_test, y_test))\n",
    "print('Training time: %s' % (datetime.datetime.now() - t))\n",
    "score = model.evaluate(x_test, y_test, verbose=0)\n",
    "print('Test score:', score[0])\n",
    "print('Test accuracy:', score[1])"
   ]
  }
 ],
 "metadata": {
  "kernelspec": {
   "display_name": "Python 3",
   "language": "python",
   "name": "python3"
  },
  "language_info": {
   "codemirror_mode": {
    "name": "ipython",
    "version": 3
   },
   "file_extension": ".py",
   "mimetype": "text/x-python",
   "name": "python",
   "nbconvert_exporter": "python",
   "pygments_lexer": "ipython3",
   "version": "3.5.3"
  }
 },
 "nbformat": 4,
 "nbformat_minor": 2
}
